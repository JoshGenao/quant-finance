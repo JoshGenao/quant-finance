{
 "cells": [
  {
   "cell_type": "code",
   "execution_count": null,
   "metadata": {},
   "outputs": [],
   "source": [
    "import numpy as np\n",
    "import scipy\n",
    "import matplotlib.pyplot as plt"
   ]
  },
  {
   "cell_type": "code",
   "execution_count": null,
   "metadata": {},
   "outputs": [],
   "source": [
    "def fourierExtrapolation(x, n_predict):\n",
    "    n = x.size\n",
    "    n_harm = 40                     # number of harmonics in model\n",
    "    t = np.arange(0, n)\n",
    "    p = np.polyfit(t, x, 1)         # find linear trend in x\n",
    "    x_notrend = x - p[0] * t        # detrended x\n",
    "    x_freqdom = np.fft.fft(x_notrend)  # detrended x in frequency domain\n",
    "    f = np.fft.fftfreq(n)              # frequencies\n",
    "    indexes = list(range(n))\n",
    "    # sort indexes by frequency, lower -> higher\n",
    "    indexes.sort(key = lambda i: np.absolute(f[i]))\n",
    " \n",
    "    t = np.arange(0, n + n_predict)\n",
    "    restored_sig = np.zeros(t.size)\n",
    "    for i in indexes[:1 + n_harm * 2]:\n",
    "        ampli = np.absolute(x_freqdom[i]) / n   # amplitude\n",
    "        phase = np.angle(x_freqdom[i])          # phase\n",
    "        restored_sig += ampli * np.cos(2 * np.pi * f[i] * t + phase)\n",
    "    return restored_sig + p[0] * t"
   ]
  },
  {
   "cell_type": "code",
   "execution_count": null,
   "metadata": {},
   "outputs": [],
   "source": [
    "start = '2020-06-01'\n",
    "end = '2020-10-15'\n",
    "data = get_pricing(['AMZN', 'MSFT', 'SPY', 'QQQ'], fields='close_price', start_date=start, end_date=end)"
   ]
  },
  {
   "cell_type": "code",
   "execution_count": null,
   "metadata": {},
   "outputs": [],
   "source": [
    "data.columns = [e.symbol for e in data.columns]\n",
    "data.head()"
   ]
  },
  {
   "cell_type": "code",
   "execution_count": null,
   "metadata": {},
   "outputs": [],
   "source": [
    "len(data['SPY'])"
   ]
  },
  {
   "cell_type": "code",
   "execution_count": null,
   "metadata": {},
   "outputs": [],
   "source": [
    "R_AMZN = data['AMZN'].pct_change()[1:]\n",
    "mean_r_amzn = np.mean(R_AMZN)\n",
    "std_rs_amzn = np.std(R_AMZN)\n",
    "\n",
    "_, ax2 = plt.subplots()\n",
    "\n",
    "extrapolation = fourierExtrapolation(R_AMZN,7)\n",
    "print(data['AMZN'][-1:]+data['AMZN'][-1:]*np.sum(extrapolation[-7:]))\n",
    "      \n",
    "#print(data['AMZN'][-1:]+data['AMZN'][-1:]*np.sum(extrapolation[-7:]))\n",
    "plt.plot(extrapolation)\n",
    "ax2.plot(np.arange(len(R_AMZN)), R_AMZN)\n",
    "print(len(extrapolation) - len(R_AMZN))\n",
    "\n",
    "ax2.axhline(mean_r_amzn)\n",
    "ax2.axhline(mean_r_amzn + std_rs_amzn, linestyle='--')\n",
    "ax2.axhline(mean_r_amzn - std_rs_amzn, linestyle='--')\n",
    "ax2.legend(['Returns', 'Mean', '+/- 1 Standard Deviation'])\n",
    "    \n",
    "plt.ylabel('Return')\n",
    "plt.title('AMZN Returns');"
   ]
  },
  {
   "cell_type": "code",
   "execution_count": null,
   "metadata": {},
   "outputs": [],
   "source": [
    "(1+extrapolation[-7:]).cumprod()-1\n"
   ]
  },
  {
   "cell_type": "code",
   "execution_count": null,
   "metadata": {},
   "outputs": [],
   "source": [
    "R_AMZN[-2:]"
   ]
  },
  {
   "cell_type": "code",
   "execution_count": null,
   "metadata": {},
   "outputs": [],
   "source": [
    "extrapolation = fourierExtrapolation(R_AMZN,10)\n",
    "print(len(extrapolation))\n",
    "plt.plot(extrapolation)"
   ]
  },
  {
   "cell_type": "code",
   "execution_count": null,
   "metadata": {},
   "outputs": [],
   "source": [
    "R_MSFT = data['MSFT'].pct_change()[1:]\n",
    "mean_r_msft = np.mean(R_MSFT)\n",
    "std_rs_msft = np.std(R_MSFT)\n",
    "\n",
    "_, ax2 = plt.subplots()\n",
    "\n",
    "ax2.plot(R_MSFT)\n",
    "\n",
    "ax2.axhline(mean_r_msft)\n",
    "ax2.axhline(mean_r_msft + std_rs_msft, linestyle='--')\n",
    "ax2.axhline(mean_r_msft - std_rs_msft, linestyle='--')\n",
    "ax2.legend(['Returns', 'Mean', '+/- 1 Standard Deviation'])\n",
    "\n",
    "\n",
    "plt.plot(R_MSFT)\n",
    "plt.ylabel('Return')\n",
    "plt.title('MSFT Returns');"
   ]
  },
  {
   "cell_type": "code",
   "execution_count": null,
   "metadata": {},
   "outputs": [],
   "source": [
    "R_SPY = data['SPY'].pct_change()[1:]\n",
    "mean_r_spy = np.mean(R_SPY)\n",
    "std_rs_spy = np.std(R_SPY)\n",
    "_, ax2 = plt.subplots()\n",
    "\n",
    "ax2.plot(R_SPY)\n",
    "\n",
    "ax2.axhline(mean_r_spy)\n",
    "ax2.axhline(mean_r_spy + std_rs_spy, linestyle='--')\n",
    "ax2.axhline(mean_r_spy - std_rs_spy, linestyle='--')\n",
    "ax2.legend(['Returns', 'Mean', '+/- 1 Standard Deviation'])\n",
    "\n",
    "plt.plot(R_SPY)\n",
    "plt.ylabel('Return')\n",
    "plt.title('SPY Returns');"
   ]
  },
  {
   "cell_type": "code",
   "execution_count": null,
   "metadata": {},
   "outputs": [],
   "source": [
    "R_QQQ = data['QQQ'].pct_change()[1:]\n",
    "mean_r_QQQ = np.mean(R_QQQ)\n",
    "std_rs_QQQ = np.std(R_QQQ)\n",
    "_, ax2 = plt.subplots()\n",
    "\n",
    "ax2.plot(R_QQQ)\n",
    "\n",
    "ax2.axhline(mean_r_QQQ)\n",
    "ax2.axhline(mean_r_QQQ + std_rs_QQQ, linestyle='--')\n",
    "ax2.axhline(mean_r_QQQ - std_rs_QQQ, linestyle='--')\n",
    "ax2.legend(['Returns', 'Mean', '+/- 1 Standard Deviation'])\n",
    "\n",
    "plt.plot(R_QQQ)\n",
    "plt.ylabel('Return')\n",
    "plt.title('QQQ Returns');"
   ]
  },
  {
   "cell_type": "code",
   "execution_count": null,
   "metadata": {},
   "outputs": [],
   "source": []
  },
  {
   "cell_type": "code",
   "execution_count": null,
   "metadata": {},
   "outputs": [],
   "source": []
  }
 ],
 "metadata": {
  "kernelspec": {
   "display_name": "Python 3.10.5 64-bit",
   "language": "python",
   "name": "python3"
  },
  "language_info": {
   "codemirror_mode": {
    "name": "ipython",
    "version": 3
   },
   "file_extension": ".py",
   "mimetype": "text/x-python",
   "name": "python",
   "nbconvert_exporter": "python",
   "pygments_lexer": "ipython3",
   "version": "3.10.5"
  },
  "vscode": {
   "interpreter": {
    "hash": "04a57a6a5ce417c7d7444ff7367eb1242e96002517d99bd63096a207043e57c2"
   }
  }
 },
 "nbformat": 4,
 "nbformat_minor": 2
}
