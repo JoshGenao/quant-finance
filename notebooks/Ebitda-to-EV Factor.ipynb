{
 "cells": [
  {
   "cell_type": "code",
   "execution_count": null,
   "metadata": {},
   "outputs": [],
   "source": [
    "from quantopian.pipeline import Pipeline\n",
    "from quantopian.pipeline import Pipeline, CustomFilter\n",
    "from quantopian.pipeline.factors import CustomFactor\n",
    "from quantopian.pipeline.data import Fundamentals\n",
    "#import quantopian.pipeline.data.morningstar import Fundamentals\n",
    "from quantopian.pipeline.data.builtin import USEquityPricing\n",
    "import numpy as np\n",
    "import pandas as pd"
   ]
  },
  {
   "cell_type": "code",
   "execution_count": null,
   "metadata": {},
   "outputs": [],
   "source": [
    "class Ebitda_to_EV(CustomFactor):\n",
    "    '''\n",
    "    The book uses EBITDA/EV. Fundamental data gives us access to EV/EBITDA. \n",
    "    EBITDA/EV = 1/(EV/EBITDA)\n",
    "    If result gives us an infinite number, that is changed to NaN. This will \n",
    "    be handled when passing it to the Quantiles function\n",
    "    '''\n",
    "    window_length = 1\n",
    "    inputs=[Fundamentals.ev_to_ebitda]\n",
    "    \n",
    "    def compute(self, today, assets, out, ev_ebitda):\n",
    "        result = 1 / ev_ebitda[-1]\n",
    "        result[np.isinf(result)] = np.nan\n",
    "        out[:] = result"
   ]
  },
  {
   "cell_type": "code",
   "execution_count": null,
   "metadata": {},
   "outputs": [],
   "source": [
    "def make_pipeline():\n",
    "    # All Stocks universe consist of stocks with a market capitalization in excess of $200 mil\n",
    "    all_stock_universe = Fundamentals.market_cap.latest > 200000000\n",
    "\n",
    "    ebitda_ev = Ebitda_to_EV()\n",
    "\n",
    "    ebitda_ev_zscore = ebitda_ev.zscore()\n",
    "\n",
    "    return Pipeline(\n",
    "        columns={\n",
    "            'factor' : ebitda_ev_zscore,\n",
    "        },\n",
    "        screen = all_stock_universe & ebitda_ev.notnull()\n",
    "    )"
   ]
  },
  {
   "cell_type": "code",
   "execution_count": null,
   "metadata": {},
   "outputs": [],
   "source": [
    "# Import run_pipeline method\n",
    "from quantopian.research import run_pipeline\n",
    "\n",
    "# Specify a time range to evaluate\n",
    "period_start = '2005-01-01'\n",
    "period_end = '2018-01-01'\n",
    "\n",
    "# Execute pipeline over evaluation period\n",
    "pipeline_output = run_pipeline(\n",
    "    make_pipeline(),\n",
    "    start_date=period_start,\n",
    "    end_date=period_end\n",
    ")\n",
    "\n",
    "print \"There are %d assets in this universe.\" % len(pipeline_output.index.levels[1])"
   ]
  },
  {
   "cell_type": "code",
   "execution_count": null,
   "metadata": {},
   "outputs": [],
   "source": [
    "import alphalens\n",
    "\n",
    "#Gets each unique stock ticker and puts it in assets\n",
    "assets = pipeline_output.index.levels[1]\n",
    "\n",
    "#gets pricing data. Needs a month before and after. Dunno why.\n",
    "pricing = get_pricing(assets, start_date='2005-01-01', end_date='2018-01-01', fields='open_price')"
   ]
  },
  {
   "cell_type": "code",
   "execution_count": null,
   "metadata": {},
   "outputs": [],
   "source": [
    "# Ingest and format data\n",
    "#factor = pipeline_output['factor']\n",
    "factor_data = alphalens.utils.get_clean_factor_and_forward_returns(pipeline_output,\n",
    "                                                                   pricing,\n",
    "                                                                   periods = (10, 20, 30),\n",
    "                                                                  quantiles = 10)"
   ]
  },
  {
   "cell_type": "code",
   "execution_count": null,
   "metadata": {},
   "outputs": [],
   "source": [
    "alphalens.tears.create_information_tear_sheet(factor_data)"
   ]
  },
  {
   "cell_type": "code",
   "execution_count": null,
   "metadata": {},
   "outputs": [],
   "source": [
    "alphalens.performance.factor_alpha_beta(factor_data)"
   ]
  },
  {
   "cell_type": "code",
   "execution_count": null,
   "metadata": {},
   "outputs": [],
   "source": [
    "alphalens.tears.create_summary_tear_sheet(factor_data)"
   ]
  },
  {
   "cell_type": "code",
   "execution_count": null,
   "metadata": {},
   "outputs": [],
   "source": []
  }
 ],
 "metadata": {
  "kernelspec": {
   "display_name": "Python 3.10.5 64-bit",
   "language": "python",
   "name": "python3"
  },
  "language_info": {
   "codemirror_mode": {
    "name": "ipython",
    "version": 2
   },
   "file_extension": ".py",
   "mimetype": "text/x-python",
   "name": "python",
   "nbconvert_exporter": "python",
   "pygments_lexer": "ipython2",
   "version": "3.10.5"
  },
  "vscode": {
   "interpreter": {
    "hash": "04a57a6a5ce417c7d7444ff7367eb1242e96002517d99bd63096a207043e57c2"
   }
  }
 },
 "nbformat": 4,
 "nbformat_minor": 2
}
